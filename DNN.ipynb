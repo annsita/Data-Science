{
  "nbformat": 4,
  "nbformat_minor": 0,
  "metadata": {
    "colab": {
      "name": "DNN.ipynb",
      "provenance": [],
      "authorship_tag": "ABX9TyN4xjT4rURb6+7stPvZzCrM",
      "include_colab_link": true
    },
    "kernelspec": {
      "name": "python3",
      "display_name": "Python 3"
    },
    "language_info": {
      "name": "python"
    }
  },
  "cells": [
    {
      "cell_type": "markdown",
      "metadata": {
        "id": "view-in-github",
        "colab_type": "text"
      },
      "source": [
        "<a href=\"https://colab.research.google.com/github/annsita/Data-Science/blob/main/DNN.ipynb\" target=\"_parent\"><img src=\"https://colab.research.google.com/assets/colab-badge.svg\" alt=\"Open In Colab\"/></a>"
      ]
    },
    {
      "cell_type": "code",
      "execution_count": 1,
      "metadata": {
        "id": "dQ2Nivid2h9z"
      },
      "outputs": [],
      "source": [
        "from sklearn.datasets import load_iris\n",
        "from sklearn.model_selection import train_test_split\n",
        "import tensorflow as tf\n",
        "from tensorflow import keras"
      ]
    },
    {
      "cell_type": "code",
      "source": [
        "iris=load_iris()\n",
        "x=iris.data\n",
        "y=iris.target"
      ],
      "metadata": {
        "id": "qztHxV9L2msM"
      },
      "execution_count": 2,
      "outputs": []
    },
    {
      "cell_type": "code",
      "source": [
        "x_train,x_test,y_train,y_test=train_test_split(x,y,test_size=0.30,random_state=1)"
      ],
      "metadata": {
        "id": "Lp9mw2972wpj"
      },
      "execution_count": 3,
      "outputs": []
    },
    {
      "cell_type": "code",
      "source": [
        "ml=keras.models.Sequential()\n",
        "ml.add(keras.layers.Dense(units=2,activation='relu',input_shape=(4,)))\n",
        "ml.add(keras.layers.Dense(units=3,activation='relu'))\n",
        "ml.add(keras.layers.Dense(units=3,activation='sigmoid'))\n",
        "ml.summary()\n",
        "ml.compile(loss='sparse_categorical_crossentropy',optimizer='adam',metrics=['accuracy'])\n",
        "ml.fit(x_train,y_train)\n",
        "test_loss,test_acc=ml.evaluate(x_test,y_test)"
      ],
      "metadata": {
        "colab": {
          "base_uri": "https://localhost:8080/"
        },
        "id": "TI9TvbeX23a7",
        "outputId": "8225132e-7b8e-4d8b-f718-997f50589154"
      },
      "execution_count": 4,
      "outputs": [
        {
          "output_type": "stream",
          "name": "stdout",
          "text": [
            "Model: \"sequential\"\n",
            "_________________________________________________________________\n",
            " Layer (type)                Output Shape              Param #   \n",
            "=================================================================\n",
            " dense (Dense)               (None, 2)                 10        \n",
            "                                                                 \n",
            " dense_1 (Dense)             (None, 3)                 9         \n",
            "                                                                 \n",
            " dense_2 (Dense)             (None, 3)                 12        \n",
            "                                                                 \n",
            "=================================================================\n",
            "Total params: 31\n",
            "Trainable params: 31\n",
            "Non-trainable params: 0\n",
            "_________________________________________________________________\n",
            "4/4 [==============================] - 1s 3ms/step - loss: 2.3855 - accuracy: 0.3048\n",
            "2/2 [==============================] - 0s 4ms/step - loss: 2.0858 - accuracy: 0.4000\n"
          ]
        }
      ]
    }
  ]
}