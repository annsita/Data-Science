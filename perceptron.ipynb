{
  "nbformat": 4,
  "nbformat_minor": 0,
  "metadata": {
    "colab": {
      "name": "Untitled24.ipynb",
      "provenance": [],
      "authorship_tag": "ABX9TyOtpjVTff+0mMF1oRHHBF70",
      "include_colab_link": true
    },
    "kernelspec": {
      "name": "python3",
      "display_name": "Python 3"
    },
    "language_info": {
      "name": "python"
    }
  },
  "cells": [
    {
      "cell_type": "markdown",
      "metadata": {
        "id": "view-in-github",
        "colab_type": "text"
      },
      "source": [
        "<a href=\"https://colab.research.google.com/github/annsita/Data-Science/blob/main/Untitled24.ipynb\" target=\"_parent\"><img src=\"https://colab.research.google.com/assets/colab-badge.svg\" alt=\"Open In Colab\"/></a>"
      ]
    },
    {
      "cell_type": "markdown",
      "source": [
        "1 Implement perceptron"
      ],
      "metadata": {
        "id": "kMum4GJV3lvz"
      }
    },
    {
      "cell_type": "code",
      "source": [
        "from sklearn.linear_model import Perceptron\n",
        "\n",
        "x = [(1,0),(0,0),(2,0)]\n",
        "y = [\"boy\", \"girl\", \"boy\"]\n",
        "\n",
        "ML = Perceptron()\n",
        "ML = ML.fit(x, y)\n",
        "pred = ML.predict([(1,0),(0,0)])\n",
        "print(pred)"
      ],
      "metadata": {
        "colab": {
          "base_uri": "https://localhost:8080/"
        },
        "id": "bzaCqfGp3tcT",
        "outputId": "e1624f5d-8e2a-44b4-ccc0-b24257c1c4c1"
      },
      "execution_count": 1,
      "outputs": [
        {
          "output_type": "stream",
          "name": "stdout",
          "text": [
            "['boy' 'girl']\n"
          ]
        }
      ]
    },
    {
      "cell_type": "markdown",
      "source": [
        "2 Implement multilayer perceptron"
      ],
      "metadata": {
        "id": "SYLREidC31Yp"
      }
    },
    {
      "cell_type": "code",
      "source": [
        "from sklearn.neural_network import MLPClassifier\n",
        "x = [[1,0],[1,1],[2,0]]\n",
        "y = [\"boy\", \"girl\", \"boy\"]\n",
        "\n",
        "ML1 = MLPClassifier(hidden_layer_sizes=(10), activation= 'relu')\n",
        "ML1.fit(x,y)\n",
        "\n",
        "prediction = ML1.predict([[1,0],[1,1]])\n",
        "print(prediction)"
      ],
      "metadata": {
        "colab": {
          "base_uri": "https://localhost:8080/"
        },
        "id": "xwXxxkQk3_yR",
        "outputId": "14a1104a-d3fd-461d-cfe3-63122edc2653"
      },
      "execution_count": 2,
      "outputs": [
        {
          "output_type": "stream",
          "name": "stdout",
          "text": [
            "['boy' 'boy']\n"
          ]
        },
        {
          "output_type": "stream",
          "name": "stderr",
          "text": [
            "/usr/local/lib/python3.7/dist-packages/sklearn/neural_network/_multilayer_perceptron.py:696: ConvergenceWarning: Stochastic Optimizer: Maximum iterations (200) reached and the optimization hasn't converged yet.\n",
            "  ConvergenceWarning,\n"
          ]
        }
      ]
    }
  ]
}
